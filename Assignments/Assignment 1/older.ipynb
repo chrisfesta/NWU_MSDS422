{
 "cells": [
  {
   "cell_type": "markdown",
   "metadata": {},
   "source": [
    "<b>Data by Countries and Territories</b>"
   ]
  },
  {
   "cell_type": "code",
   "execution_count": 1,
   "metadata": {},
   "outputs": [
    {
     "ename": "NameError",
     "evalue": "name 'data' is not defined",
     "output_type": "error",
     "traceback": [
      "\u001b[0;31m---------------------------------------------------------------------------\u001b[0m",
      "\u001b[0;31mNameError\u001b[0m                                 Traceback (most recent call last)",
      "\u001b[0;32m<ipython-input-1-3bb2fe91f3f9>\u001b[0m in \u001b[0;36m<module>\u001b[0;34m\u001b[0m\n\u001b[1;32m      3\u001b[0m \u001b[0;34m\u001b[0m\u001b[0m\n\u001b[1;32m      4\u001b[0m \u001b[0;31m# get the cumulative cases and deaths by countries and territories\u001b[0m\u001b[0;34m\u001b[0m\u001b[0;34m\u001b[0m\u001b[0;34m\u001b[0m\u001b[0m\n\u001b[0;32m----> 5\u001b[0;31m \u001b[0mct_cumulative_cases_deaths\u001b[0m \u001b[0;34m=\u001b[0m \u001b[0mdata\u001b[0m\u001b[0;34m.\u001b[0m\u001b[0mgroupby\u001b[0m\u001b[0;34m(\u001b[0m\u001b[0;34m\"countriesAndTerritories\"\u001b[0m\u001b[0;34m)\u001b[0m\u001b[0;34m.\u001b[0m\u001b[0;31m\\\u001b[0m\u001b[0;34m\u001b[0m\u001b[0;34m\u001b[0m\u001b[0m\n\u001b[0m\u001b[1;32m      6\u001b[0m         \u001b[0magg\u001b[0m\u001b[0;34m(\u001b[0m\u001b[0;34m{\u001b[0m\u001b[0;34m'cases'\u001b[0m\u001b[0;34m:\u001b[0m \u001b[0;34m'sum'\u001b[0m\u001b[0;34m,\u001b[0m \u001b[0;34m'deaths'\u001b[0m\u001b[0;34m:\u001b[0m \u001b[0;34m'sum'\u001b[0m\u001b[0;34m,\u001b[0m \u001b[0;34m'popData2019'\u001b[0m\u001b[0;34m:\u001b[0m \u001b[0;34m'max'\u001b[0m\u001b[0;34m}\u001b[0m\u001b[0;34m)\u001b[0m\u001b[0;34m.\u001b[0m\u001b[0mgroupby\u001b[0m\u001b[0;34m(\u001b[0m\u001b[0mlevel\u001b[0m\u001b[0;34m=\u001b[0m\u001b[0;36m0\u001b[0m\u001b[0;34m)\u001b[0m\u001b[0;34m.\u001b[0m\u001b[0mcumsum\u001b[0m\u001b[0;34m(\u001b[0m\u001b[0;34m)\u001b[0m\u001b[0;34m.\u001b[0m\u001b[0mreset_index\u001b[0m\u001b[0;34m(\u001b[0m\u001b[0;34m)\u001b[0m\u001b[0;34m\u001b[0m\u001b[0;34m\u001b[0m\u001b[0m\n\u001b[1;32m      7\u001b[0m \u001b[0;34m\u001b[0m\u001b[0m\n",
      "\u001b[0;31mNameError\u001b[0m: name 'data' is not defined"
     ]
    }
   ],
   "source": [
    "# set rate / rates per million\n",
    "population = 1000000\n",
    "\n",
    "# get the cumulative cases and deaths by countries and territories\n",
    "ct_cumulative_cases_deaths = data.groupby(\"countriesAndTerritories\").\\\n",
    "        agg({'cases': 'sum', 'deaths': 'sum', 'popData2019': 'max'}).groupby(level=0).cumsum().reset_index()\n",
    "\n",
    "# function to compute the features of:\n",
    "#   fatality_rate\n",
    "#   fatality_rate_per_million\n",
    "#   case_rate_per_million\n",
    "def get_features(x):\n",
    "    d = {}\n",
    "    \n",
    "    d['fatality_rate'] = x[\"deaths\"] / x[\"cases\"] * 100\n",
    "    d['fatality_rate_per_million'] = x[\"deaths\"] / x[\"popData2019\"] * population\n",
    "    d['case_rate_per_million'] = x[\"cases\"] / x[\"popData2019\"] * population\n",
    "    \n",
    "    \n",
    "    return pd.Series(d, index=['fatality_rate', 'fatality_rate_per_million', 'case_rate_per_million'])\n",
    "\n",
    "# join the data cumulative cases and deaths with the computed features\n",
    "ct_cumulative_cases_deaths_add_features = ct_cumulative_cases_deaths.\\\n",
    "    join(ct_cumulative_cases_deaths.apply(get_features, axis=1))\n",
    "\n",
    "# get the cases and deaths for each country/territory in each year+month\n",
    "ct_cases_deaths_byYearMonth_pvt = pd.pivot_table(data, values=['cases', 'deaths'],\n",
    "             index = ['countriesAndTerritories'],\n",
    "             columns=['year', 'month'],\n",
    "             aggfunc=np.sum, fill_value = 0)\n",
    "\n",
    "ct_cases_deaths_byYearMonth_pvt.columns = [ '_'.join([str(c) for c in c_list]) for c_list in ct_cases_deaths_byYearMonth_pvt.columns.values ]\n",
    "ct_cases_deaths_byYearMonth = ct_cumulative_cases_deaths_pvt.reset_index()\n",
    "\n",
    "# join the data cumulative cases and deaths, computed features, and  the cases and deaths in each year+month\n",
    "ct_cumulative_cases_deaths_add_features = pd.merge(ct_cumulative_cases_deaths_add_features, \n",
    "                                                  ct_cases_deaths_byYearMonth, on='countriesAndTerritories')\n",
    "# remove the duplicated index column\n",
    "del ct_cumulative_cases_deaths_add_features['index']\n",
    "\n",
    "# get the columns where cases_ and deaths_ exist\n",
    "cols = [col for col in ct_cumulative_cases_deaths_add_features.columns if 'cases_' in col or 'deaths_' in col]\n",
    "\n",
    "# save the columns for the apply function\n",
    "cols_for_feature = np.array(cols)\n",
    "cols_for_feature_names = [cols_for_feature[i]+\"_incidence_rate\" for i in range(cols_for_feature.size)]\n",
    "\n",
    "# add the countriesAndTerritories and popData2019 columns to the list\n",
    "cols.append('countriesAndTerritories')\n",
    "cols.append('popData2019')\n",
    "\n",
    "# set the data\n",
    "ct_data_for_incidence_rate = ct_cumulative_cases_deaths_add_features[cols]\n",
    "ct_data_for_incidence_rate\n",
    "\n",
    "# calculate the incidence features in each month\n",
    "def get_features_incidence(x):\n",
    "    d = {}\n",
    "    \n",
    "    for c in cols_for_feature:\n",
    "        d[c+\"_incidence_rate\"] = x[c] / x['popData2019'] * population\n",
    "    \n",
    "    return pd.Series(d, index=cols_for_feature_names)\n",
    "\n",
    "# join the data cumulative cases and deaths, computed features, the cases and deaths in each year+month, and\n",
    "# the incidence rate of cases and deaths in each year+month\n",
    "ct_cumulative_cases_deaths_add_features = ct_cumulative_cases_deaths_add_features.\\\n",
    "    join(ct_data_for_incidence_rate.apply(get_features_incidence, axis=1))"
   ]
  },
  {
   "cell_type": "code",
   "execution_count": null,
   "metadata": {},
   "outputs": [],
   "source": [
    "#inspect data\n",
    "ct_cumulative_cases_deaths_add_features.iloc[190:220]\n",
    "#ct_cumulative_cases_deaths_add_features[ct_cumulative_cases_deaths_add_features['countriesAndTerritories'] == 'Germany']"
   ]
  },
  {
   "cell_type": "code",
   "execution_count": null,
   "metadata": {},
   "outputs": [],
   "source": [
    "import numpy as np\n",
    "\n",
    "import matplotlib as mpl\n",
    "from matplotlib import pyplot as plt\n",
    "from matplotlib import cm\n",
    "\n",
    "\n",
    "\n",
    "# create the dataset for scikit and analysis\n",
    "dataset = {\n",
    "    #'data': ct_cumulative_cases_deaths_add_features.iloc[:, 1:].to_numpy()\n",
    "    'data': ct_cumulative_cases_deaths_add_features.to_numpy(),\n",
    "    'feature_names': ct_cumulative_cases_deaths_add_features.columns.tolist(),\n",
    "    'DESCR': 'COVID-19 dataset\\n' +\n",
    "            '--------------------------------------------------------\\n' +\n",
    "            'number of instances: ' + str(ct_cumulative_cases_deaths_add_features.size) + '\\n' +\n",
    "            '--------------------------------------------------------\\n' +\n",
    "            'countriesAndTerritories – the name of the country or territory\\n' +\n",
    "            'cases – the number of COVID-19 cases\\n' +\n",
    "            'deaths – the number of COVID-19 deaths\\n' +\n",
    "            'popData2019 – the population of the country or territory\\n' +\n",
    "            'fatality_rate – the fatality rate (deaths/cases)*100\\n' +\n",
    "            'fatality_rate_per_million – the fatality rate per million (deaths/cases)*1000000\\n' +\n",
    "            'case_rate_per_million – the case rate per million (cases/cases)*1000000\\n' +\n",
    "            '\\n'.join([c + ' – the number of cases in given month\\n' for c in cols_for_feature if 'cases_' in c]) +\n",
    "            '\\n'.join([c + ' – the number of deaths in given month\\n' for c in cols_for_feature if 'deaths_' in c]) +\n",
    "            '\\n'.join([c + ' – the incident rate of cases in given month\\n' for c in cols_for_feature_names if 'cases_' in c]) +\n",
    "            '\\n'.join([c + ' – the incident rate of deaths in given month' for c in cols_for_feature_names if 'deaths_' in c])\n",
    "}"
   ]
  },
  {
   "cell_type": "code",
   "execution_count": null,
   "metadata": {},
   "outputs": [],
   "source": [
    "pop = distributions[0][1:2][0][:,0].tolist()\n",
    "case_rate_per_million = distributions[0][1:2][0][:,1].tolist()\n",
    "\n",
    "fig=plt.figure()\n",
    "ax=fig.add_axes([0,0,1,1])\n",
    "ax.scatter(pop, case_rate_per_million)\n",
    "ax.set_xlabel('Population')\n",
    "ax.set_ylabel('Case Rate Per Million')\n",
    "\n"
   ]
  },
  {
   "cell_type": "code",
   "execution_count": null,
   "metadata": {},
   "outputs": [],
   "source": [
    "pop = distributions[1][1:2][0][:,0].tolist()\n",
    "case_rate_per_million = distributions[1][1:2][0][:,1].tolist()\n",
    "\n",
    "fig=plt.figure()\n",
    "ax=fig.add_axes([0,0,1,1])\n",
    "ax.scatter(pop, case_rate_per_million)\n",
    "ax.set_xlabel('Population')\n",
    "ax.set_ylabel('Case Rate Per Million')"
   ]
  },
  {
   "cell_type": "code",
   "execution_count": null,
   "metadata": {},
   "outputs": [],
   "source": [
    "pop = distributions[3][1:2][0][:,0].tolist()\n",
    "case_rate_per_million = distributions[3][1:2][0][:,1].tolist()\n",
    "\n",
    "fig=plt.figure()\n",
    "ax=fig.add_axes([0,0,1,1])\n",
    "ax.scatter(pop, case_rate_per_million)\n",
    "ax.set_xlabel('Population')\n",
    "ax.set_ylabel('Case Rate Per Million')"
   ]
  },
  {
   "cell_type": "code",
   "execution_count": null,
   "metadata": {},
   "outputs": [],
   "source": [
    "\n",
    "ct_cases_deaths_byYearMonth[ct_cumulative_cases_deaths_pvt['countriesAndTerritories'] == 'United_States_of_America']"
   ]
  },
  {
   "cell_type": "code",
   "execution_count": null,
   "metadata": {},
   "outputs": [],
   "source": [
    "a = np.array(ct_cumulative_cases_deaths_pvt.unstack())\n",
    "a"
   ]
  },
  {
   "cell_type": "code",
   "execution_count": null,
   "metadata": {},
   "outputs": [],
   "source": [
    "def get_rate_features(x):\n",
    "    d = {}\n",
    "    \n",
    "    d['daily_cases_rate'] = x.daily_cases / x.popData2019 * 1000000\n",
    "    d['daily_deaths_rate'] = x.daily_deaths / x.popData2019 * 1000000    \n",
    "    d['cumulative_cases_rate'] = x.cumulative_cases / x.popData2019 * 1000000\n",
    "    d['cumulative_deaths_rate'] = x.cumulative_deaths / x.popData2019 * 1000000\n",
    "    \n",
    "    return pd.Series(d, index=['daily_cases_rate', 'daily_deaths_rate', \\\n",
    "                               'cumulative_cases_rate', 'cumulative_deaths_rate'])\n",
    "\n",
    "\n",
    "def get_features_by_variable(v):\n",
    "    facts = data.groupby([v, \"dateRep\"]).\\\n",
    "        agg({'cases': 'sum', 'deaths': 'sum', 'popData2019': 'sum'}).reset_index()\n",
    "\n",
    "    # aggregate stats culmatively per day by continent\n",
    "    facts_culmative = data.groupby([v, \"dateRep\"]).\\\n",
    "        agg({'cases': 'sum', 'deaths': 'sum'}).groupby(level=0).cumsum().reset_index()\n",
    "\n",
    "    # merge facts per day and per day cumulative\n",
    "    features = pd.merge(facts, facts_culmative, how='left', \\\n",
    "                                  left_on=[v,'dateRep'], right_on = [v,'dateRep'])\n",
    "\n",
    "    # rename columns\n",
    "    features.rename(columns={'cases_x': 'daily_cases', 'deaths_x': 'daily_deaths', \\\n",
    "                                      'cases_y': 'cumulative_cases', 'deaths_y': 'cumulative_deaths'}, \\\n",
    "                                      inplace=True)\n",
    "    \n",
    "    features_with_rates = features.join(features.apply(get_rate_features, axis=1))\n",
    "    \n",
    "    return features"
   ]
  },
  {
   "cell_type": "code",
   "execution_count": null,
   "metadata": {},
   "outputs": [],
   "source": [
    "# by continent\n",
    "continent_features = get_features_by_variable('continentExp')\n",
    "\n",
    "#by countries and territories - limited to only the top 10\n",
    "limit = 10\n",
    "countriesAndTerritories_features = get_features_by_variable('countriesAndTerritories')\n",
    "top = countriesAndTerritories_features[['countriesAndTerritories', 'popData2019']].drop_duplicates().\\\n",
    "    sort_values(by='popData2019', ascending=False).head(limit).countriesAndTerritories.values\n",
    "countriesAndTerritories_features = \\\n",
    "    countriesAndTerritories_features[countriesAndTerritories_features.countriesAndTerritories.isin(top)]"
   ]
  },
  {
   "cell_type": "code",
   "execution_count": null,
   "metadata": {},
   "outputs": [],
   "source": [
    "continent_features.head(10)"
   ]
  },
  {
   "cell_type": "code",
   "execution_count": null,
   "metadata": {},
   "outputs": [],
   "source": [
    "countriesAndTerritories_features.head(10)"
   ]
  },
  {
   "cell_type": "markdown",
   "metadata": {},
   "source": [
    "<b>Spread over time - by continent</b>"
   ]
  },
  {
   "cell_type": "code",
   "execution_count": null,
   "metadata": {},
   "outputs": [],
   "source": [
    "params = {'font.size': 12,\n",
    "          \"figure.figsize\": (20,30)\n",
    "         }\n",
    "plt.rcParams.update(params)\n",
    "\n",
    "fig, axs = plt.subplots(5,1)  # Create a figure and an axes\n",
    "\n",
    "i = 0; j = 0\n",
    "for c in continent_features_with_rates.continentExp.unique():\n",
    "    plt_data = continent_features_with_rates[continent_features_with_rates['continentExp'] == c]\n",
    "    axs[i].plot(plt_data['dateRep'], plt_data['cumulative_cases'], label=c)\n",
    "    axs[i].set_title(\"COVID-19 Cases: Spread over time - \" + c)  # Add a title to the axes.\n",
    "    #ax[i, j].set_ylim([0, max_cases])\n",
    "    \n",
    "    i = i + 1\n",
    "    \n",
    "for ax in axs.flat:\n",
    "    ax.set(xlabel='Time', ylabel='Cumulative Cases')"
   ]
  },
  {
   "cell_type": "markdown",
   "metadata": {},
   "source": [
    "<b>New cases - by continent</b>"
   ]
  },
  {
   "cell_type": "code",
   "execution_count": null,
   "metadata": {},
   "outputs": [],
   "source": [
    "params = {'font.size': 12,\n",
    "          \"figure.figsize\": (20,30)\n",
    "         }\n",
    "plt.rcParams.update(params)\n",
    "\n",
    "fig, axs = plt.subplots(5,1)  # Create a figure and an axes\n",
    "\n",
    "i = 0; j = 0\n",
    "for c in continent_features_with_rates.continentExp.unique():\n",
    "    plt_data = continent_features_with_rates[continent_features_with_rates['continentExp'] == c]\n",
    "    axs[i].bar(plt_data['dateRep'], plt_data['daily_cases'], label=c)\n",
    "    axs[i].set_title(\"COVID-19 New Cases: \" + c)  # Add a title to the axes.\n",
    "    #ax[i, j].set_ylim([0, max_cases])\n",
    "    \n",
    "    i = i + 1\n",
    "    \n",
    "for ax in axs.flat:\n",
    "    ax.set(xlabel='Time', ylabel='New Cases')"
   ]
  },
  {
   "cell_type": "markdown",
   "metadata": {},
   "source": [
    "<b>Distribution of cumulative cases - by continent</b>"
   ]
  },
  {
   "cell_type": "code",
   "execution_count": null,
   "metadata": {},
   "outputs": [],
   "source": [
    "continent_cumulative_frequency = continent_features.\\\n",
    "    groupby('continentExp').agg({'cumulative_cases': 'max'}).apply(lambda x: x / x.sum()).reset_index()\n",
    "\n",
    "params = {'font.size': 12,\n",
    "          \"figure.figsize\": (15,10)\n",
    "         }\n",
    "plt.rcParams.update(params)\n",
    "\n",
    "fig, axs = plt.subplots()\n",
    "axs.pie(continent_cumulative_frequency['cumulative_cases'].values, \\\n",
    "        labels=continent_cumulative_frequency['continentExp'].values, autopct='%1.1f%%',\n",
    "        shadow=True, startangle=90)\n",
    "axs.axis('equal')  # Equal aspect ratio ensures that pie is drawn as a circle.\n",
    "\n",
    "plt.show()"
   ]
  },
  {
   "cell_type": "markdown",
   "metadata": {},
   "source": [
    "<b>Spread over time - by countries and territories</b>"
   ]
  },
  {
   "cell_type": "code",
   "execution_count": 2,
   "metadata": {},
   "outputs": [
    {
     "ename": "NameError",
     "evalue": "name 'plt' is not defined",
     "output_type": "error",
     "traceback": [
      "\u001b[0;31m---------------------------------------------------------------------------\u001b[0m",
      "\u001b[0;31mNameError\u001b[0m                                 Traceback (most recent call last)",
      "\u001b[0;32m<ipython-input-2-76b1bd9272eb>\u001b[0m in \u001b[0;36m<module>\u001b[0;34m\u001b[0m\n\u001b[1;32m      2\u001b[0m           \u001b[0;34m\"figure.figsize\"\u001b[0m\u001b[0;34m:\u001b[0m \u001b[0;34m(\u001b[0m\u001b[0;36m20\u001b[0m\u001b[0;34m,\u001b[0m\u001b[0;36m50\u001b[0m\u001b[0;34m)\u001b[0m\u001b[0;34m\u001b[0m\u001b[0;34m\u001b[0m\u001b[0m\n\u001b[1;32m      3\u001b[0m          }\n\u001b[0;32m----> 4\u001b[0;31m \u001b[0mplt\u001b[0m\u001b[0;34m.\u001b[0m\u001b[0mrcParams\u001b[0m\u001b[0;34m.\u001b[0m\u001b[0mupdate\u001b[0m\u001b[0;34m(\u001b[0m\u001b[0mparams\u001b[0m\u001b[0;34m)\u001b[0m\u001b[0;34m\u001b[0m\u001b[0;34m\u001b[0m\u001b[0m\n\u001b[0m\u001b[1;32m      5\u001b[0m \u001b[0;34m\u001b[0m\u001b[0m\n\u001b[1;32m      6\u001b[0m \u001b[0mfig\u001b[0m\u001b[0;34m,\u001b[0m \u001b[0maxs\u001b[0m \u001b[0;34m=\u001b[0m \u001b[0mplt\u001b[0m\u001b[0;34m.\u001b[0m\u001b[0msubplots\u001b[0m\u001b[0;34m(\u001b[0m\u001b[0mint\u001b[0m\u001b[0;34m(\u001b[0m\u001b[0mlimit\u001b[0m\u001b[0;34m/\u001b[0m\u001b[0;36m2\u001b[0m\u001b[0;34m)\u001b[0m\u001b[0;34m,\u001b[0m\u001b[0;36m2\u001b[0m\u001b[0;34m)\u001b[0m  \u001b[0;31m# Create a figure and an axes\u001b[0m\u001b[0;34m\u001b[0m\u001b[0;34m\u001b[0m\u001b[0m\n",
      "\u001b[0;31mNameError\u001b[0m: name 'plt' is not defined"
     ]
    }
   ],
   "source": [
    "params = {'font.size': 12,\n",
    "          \"figure.figsize\": (20,50)\n",
    "         }\n",
    "plt.rcParams.update(params)\n",
    "\n",
    "fig, axs = plt.subplots(int(limit/2),2)  # Create a figure and an axes\n",
    "\n",
    "i = 0; j = 0\n",
    "for c in countriesAndTerritories_features.countriesAndTerritories.unique():\n",
    "    plt_data = countriesAndTerritories_features[countriesAndTerritories_features['countriesAndTerritories'] == c]\n",
    "    plot(plt_data['dateRep'], plt_data['cumulative_cases'], label=c)\n",
    "    axs[i, j].set_title(\"COVID-19 Cases: Spread over time - \" + c)  # Add a title to the axes.\n",
    "    #ax[i, j].set_ylim([0, max_cases])\n",
    "    \n",
    "    if j == 1:\n",
    "        i = i + 1\n",
    "        j = 0\n",
    "    else:\n",
    "        j = j + 1\n",
    "    \n",
    "for ax in axs.flat:\n",
    "    ax.set(xlabel='Time', ylabel='Cumulative Cases')"
   ]
  },
  {
   "cell_type": "markdown",
   "metadata": {},
   "source": [
    "<b>New cases - by countries and territories</b>"
   ]
  },
  {
   "cell_type": "code",
   "execution_count": null,
   "metadata": {},
   "outputs": [],
   "source": [
    "params = {'font.size': 12,\n",
    "          \"figure.figsize\": (20,30)\n",
    "         }\n",
    "plt.rcParams.update(params)\n",
    "\n",
    "fig, axs = plt.subplots(int(limit/2),2)  # Create a figure and an axes\n",
    "\n",
    "i = 0; j = 0\n",
    "for c in countriesAndTerritories_features.countriesAndTerritories.unique():\n",
    "    plt_data = countriesAndTerritories_features[countriesAndTerritories_features['countriesAndTerritories'] == c]\n",
    "    axs[i, j].bar(plt_data['dateRep'], plt_data['daily_cases'], label=c)\n",
    "    axs[i, j].set_title(\"COVID-19 New Cases: \" + c)  # Add a title to the axes.\n",
    "    #ax[i, j].set_ylim([0, max_cases])\n",
    "    \n",
    "    if j == 1:\n",
    "        i = i + 1\n",
    "        j = 0\n",
    "    else:\n",
    "        j = j + 1\n",
    "    \n",
    "for ax in axs.flat:\n",
    "    ax.set(xlabel='Time', ylabel='New Cases')"
   ]
  },
  {
   "cell_type": "markdown",
   "metadata": {},
   "source": [
    "<b>Distribution of cumulative cases - by countries and territories</b>"
   ]
  },
  {
   "cell_type": "code",
   "execution_count": null,
   "metadata": {},
   "outputs": [],
   "source": [
    "countriesAndTerritories_cumulative_frequency = countriesAndTerritories_features.\\\n",
    "    groupby('countriesAndTerritories').agg({'cumulative_cases': 'max'}).apply(lambda x: x / x.sum()).reset_index()\n",
    "\n",
    "params = {'font.size': 12,\n",
    "          \"figure.figsize\": (15,10)\n",
    "         }\n",
    "plt.rcParams.update(params)\n",
    "\n",
    "fig, axs = plt.subplots()\n",
    "axs.pie(countriesAndTerritories_cumulative_frequency['cumulative_cases'].values, \\\n",
    "        labels=countriesAndTerritories_cumulative_frequency['countriesAndTerritories'].values, autopct='%1.1f%%',\n",
    "        shadow=True, startangle=90)\n",
    "axs.axis('equal')  # Equal aspect ratio ensures that pie is drawn as a circle.\n",
    "\n",
    "plt.show()"
   ]
  }
 ],
 "metadata": {
  "kernelspec": {
   "display_name": "Python 3",
   "language": "python",
   "name": "python3"
  },
  "language_info": {
   "codemirror_mode": {
    "name": "ipython",
    "version": 3
   },
   "file_extension": ".py",
   "mimetype": "text/x-python",
   "name": "python",
   "nbconvert_exporter": "python",
   "pygments_lexer": "ipython3",
   "version": "3.7.6"
  }
 },
 "nbformat": 4,
 "nbformat_minor": 4
}
